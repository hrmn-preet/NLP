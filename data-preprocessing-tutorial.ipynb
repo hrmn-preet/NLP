{
 "cells": [
  {
   "cell_type": "markdown",
   "metadata": {},
   "source": [
    "## Preprocessing Sample Dataset"
   ]
  },
  {
   "cell_type": "code",
   "execution_count": 1,
   "metadata": {},
   "outputs": [],
   "source": [
    "import pandas as pd\n",
    "import numpy as np"
   ]
  },
  {
   "cell_type": "code",
   "execution_count": 2,
   "metadata": {},
   "outputs": [],
   "source": [
    "#importing our dataset\n",
    "df = pd.read_csv('imdb_movie_reviews.csv')"
   ]
  },
  {
   "cell_type": "code",
   "execution_count": 3,
   "metadata": {},
   "outputs": [
    {
     "data": {
      "text/plain": [
       "(50000, 2)"
      ]
     },
     "execution_count": 3,
     "metadata": {},
     "output_type": "execute_result"
    }
   ],
   "source": [
    "df.shape"
   ]
  },
  {
   "cell_type": "code",
   "execution_count": 4,
   "metadata": {},
   "outputs": [
    {
     "data": {
      "text/html": [
       "<div>\n",
       "<style scoped>\n",
       "    .dataframe tbody tr th:only-of-type {\n",
       "        vertical-align: middle;\n",
       "    }\n",
       "\n",
       "    .dataframe tbody tr th {\n",
       "        vertical-align: top;\n",
       "    }\n",
       "\n",
       "    .dataframe thead th {\n",
       "        text-align: right;\n",
       "    }\n",
       "</style>\n",
       "<table border=\"1\" class=\"dataframe\">\n",
       "  <thead>\n",
       "    <tr style=\"text-align: right;\">\n",
       "      <th></th>\n",
       "      <th>label</th>\n",
       "      <th>review</th>\n",
       "    </tr>\n",
       "  </thead>\n",
       "  <tbody>\n",
       "    <tr>\n",
       "      <th>0</th>\n",
       "      <td>negative</td>\n",
       "      <td>In the ten years since Wildside aired, nothing...</td>\n",
       "    </tr>\n",
       "    <tr>\n",
       "      <th>1</th>\n",
       "      <td>positive</td>\n",
       "      <td>This is a better-than-average entry in the Sai...</td>\n",
       "    </tr>\n",
       "    <tr>\n",
       "      <th>2</th>\n",
       "      <td>negative</td>\n",
       "      <td>\"The Mayor Of Hell\" has the feel of an early D...</td>\n",
       "    </tr>\n",
       "    <tr>\n",
       "      <th>3</th>\n",
       "      <td>positive</td>\n",
       "      <td>This is a really great short from Hal Roach. T...</td>\n",
       "    </tr>\n",
       "    <tr>\n",
       "      <th>4</th>\n",
       "      <td>positive</td>\n",
       "      <td>A rather charming depiction of European union ...</td>\n",
       "    </tr>\n",
       "  </tbody>\n",
       "</table>\n",
       "</div>"
      ],
      "text/plain": [
       "      label                                             review\n",
       "0  negative  In the ten years since Wildside aired, nothing...\n",
       "1  positive  This is a better-than-average entry in the Sai...\n",
       "2  negative  \"The Mayor Of Hell\" has the feel of an early D...\n",
       "3  positive  This is a really great short from Hal Roach. T...\n",
       "4  positive  A rather charming depiction of European union ..."
      ]
     },
     "execution_count": 4,
     "metadata": {},
     "output_type": "execute_result"
    }
   ],
   "source": [
    "df.head()"
   ]
  },
  {
   "cell_type": "code",
   "execution_count": 5,
   "metadata": {},
   "outputs": [
    {
     "data": {
      "text/plain": [
       "label\n",
       "negative    25000\n",
       "positive    25000\n",
       "Name: count, dtype: int64"
      ]
     },
     "execution_count": 5,
     "metadata": {},
     "output_type": "execute_result"
    }
   ],
   "source": [
    "df.label.value_counts()"
   ]
  },
  {
   "cell_type": "markdown",
   "metadata": {},
   "source": [
    "Dataset is equally divided into positive and negative reviews."
   ]
  },
  {
   "cell_type": "markdown",
   "metadata": {},
   "source": [
    "-----------------------------------------------------"
   ]
  },
  {
   "cell_type": "markdown",
   "metadata": {},
   "source": [
    "### Removing Punctuation"
   ]
  },
  {
   "cell_type": "code",
   "execution_count": 6,
   "metadata": {},
   "outputs": [
    {
     "data": {
      "text/plain": [
       "'!\"#$%&\\'()*+,-./:;<=>?@[\\\\]^_`{|}~'"
      ]
     },
     "execution_count": 6,
     "metadata": {},
     "output_type": "execute_result"
    }
   ],
   "source": [
    "import string\n",
    "\n",
    "punctuation = string.punctuation\n",
    "\n",
    "punctuation"
   ]
  },
  {
   "cell_type": "code",
   "execution_count": 7,
   "metadata": {},
   "outputs": [],
   "source": [
    "#function to remove punctuation\n",
    "def remove_punctuation(review):\n",
    "    review = \"\".join([char for char in review if char not in punctuation])\n",
    "    return review"
   ]
  },
  {
   "cell_type": "code",
   "execution_count": 8,
   "metadata": {},
   "outputs": [],
   "source": [
    "#applying the function to dataset\n",
    "df['review-no-punc'] = df['review'].apply(lambda x : remove_punctuation(x))"
   ]
  },
  {
   "cell_type": "code",
   "execution_count": 9,
   "metadata": {},
   "outputs": [
    {
     "data": {
      "text/html": [
       "<div>\n",
       "<style scoped>\n",
       "    .dataframe tbody tr th:only-of-type {\n",
       "        vertical-align: middle;\n",
       "    }\n",
       "\n",
       "    .dataframe tbody tr th {\n",
       "        vertical-align: top;\n",
       "    }\n",
       "\n",
       "    .dataframe thead th {\n",
       "        text-align: right;\n",
       "    }\n",
       "</style>\n",
       "<table border=\"1\" class=\"dataframe\">\n",
       "  <thead>\n",
       "    <tr style=\"text-align: right;\">\n",
       "      <th></th>\n",
       "      <th>label</th>\n",
       "      <th>review</th>\n",
       "      <th>review-no-punc</th>\n",
       "    </tr>\n",
       "  </thead>\n",
       "  <tbody>\n",
       "    <tr>\n",
       "      <th>0</th>\n",
       "      <td>negative</td>\n",
       "      <td>In the ten years since Wildside aired, nothing...</td>\n",
       "      <td>In the ten years since Wildside aired nothing ...</td>\n",
       "    </tr>\n",
       "    <tr>\n",
       "      <th>1</th>\n",
       "      <td>positive</td>\n",
       "      <td>This is a better-than-average entry in the Sai...</td>\n",
       "      <td>This is a betterthanaverage entry in the Saint...</td>\n",
       "    </tr>\n",
       "    <tr>\n",
       "      <th>2</th>\n",
       "      <td>negative</td>\n",
       "      <td>\"The Mayor Of Hell\" has the feel of an early D...</td>\n",
       "      <td>The Mayor Of Hell has the feel of an early Dea...</td>\n",
       "    </tr>\n",
       "    <tr>\n",
       "      <th>3</th>\n",
       "      <td>positive</td>\n",
       "      <td>This is a really great short from Hal Roach. T...</td>\n",
       "      <td>This is a really great short from Hal Roach Th...</td>\n",
       "    </tr>\n",
       "    <tr>\n",
       "      <th>4</th>\n",
       "      <td>positive</td>\n",
       "      <td>A rather charming depiction of European union ...</td>\n",
       "      <td>A rather charming depiction of European union ...</td>\n",
       "    </tr>\n",
       "  </tbody>\n",
       "</table>\n",
       "</div>"
      ],
      "text/plain": [
       "      label                                             review  \\\n",
       "0  negative  In the ten years since Wildside aired, nothing...   \n",
       "1  positive  This is a better-than-average entry in the Sai...   \n",
       "2  negative  \"The Mayor Of Hell\" has the feel of an early D...   \n",
       "3  positive  This is a really great short from Hal Roach. T...   \n",
       "4  positive  A rather charming depiction of European union ...   \n",
       "\n",
       "                                      review-no-punc  \n",
       "0  In the ten years since Wildside aired nothing ...  \n",
       "1  This is a betterthanaverage entry in the Saint...  \n",
       "2  The Mayor Of Hell has the feel of an early Dea...  \n",
       "3  This is a really great short from Hal Roach Th...  \n",
       "4  A rather charming depiction of European union ...  "
      ]
     },
     "execution_count": 9,
     "metadata": {},
     "output_type": "execute_result"
    }
   ],
   "source": [
    "df.head()"
   ]
  },
  {
   "cell_type": "markdown",
   "metadata": {},
   "source": [
    "### Tokenization (with text split)"
   ]
  },
  {
   "cell_type": "markdown",
   "metadata": {},
   "source": [
    "A function that takes a review as an argument and returns a list of lowercase individual words."
   ]
  },
  {
   "cell_type": "code",
   "execution_count": 10,
   "metadata": {},
   "outputs": [],
   "source": [
    "def tokenize(review):\n",
    "    review = review.lower().split()\n",
    "    return review"
   ]
  },
  {
   "cell_type": "code",
   "execution_count": 11,
   "metadata": {},
   "outputs": [],
   "source": [
    "#applying the function\n",
    "df['review-tokens']  = df['review-no-punc'].apply(lambda x : tokenize(x))"
   ]
  },
  {
   "cell_type": "code",
   "execution_count": 12,
   "metadata": {},
   "outputs": [
    {
     "data": {
      "text/html": [
       "<div>\n",
       "<style scoped>\n",
       "    .dataframe tbody tr th:only-of-type {\n",
       "        vertical-align: middle;\n",
       "    }\n",
       "\n",
       "    .dataframe tbody tr th {\n",
       "        vertical-align: top;\n",
       "    }\n",
       "\n",
       "    .dataframe thead th {\n",
       "        text-align: right;\n",
       "    }\n",
       "</style>\n",
       "<table border=\"1\" class=\"dataframe\">\n",
       "  <thead>\n",
       "    <tr style=\"text-align: right;\">\n",
       "      <th></th>\n",
       "      <th>label</th>\n",
       "      <th>review</th>\n",
       "      <th>review-no-punc</th>\n",
       "      <th>review-tokens</th>\n",
       "    </tr>\n",
       "  </thead>\n",
       "  <tbody>\n",
       "    <tr>\n",
       "      <th>0</th>\n",
       "      <td>negative</td>\n",
       "      <td>In the ten years since Wildside aired, nothing...</td>\n",
       "      <td>In the ten years since Wildside aired nothing ...</td>\n",
       "      <td>[in, the, ten, years, since, wildside, aired, ...</td>\n",
       "    </tr>\n",
       "    <tr>\n",
       "      <th>1</th>\n",
       "      <td>positive</td>\n",
       "      <td>This is a better-than-average entry in the Sai...</td>\n",
       "      <td>This is a betterthanaverage entry in the Saint...</td>\n",
       "      <td>[this, is, a, betterthanaverage, entry, in, th...</td>\n",
       "    </tr>\n",
       "    <tr>\n",
       "      <th>2</th>\n",
       "      <td>negative</td>\n",
       "      <td>\"The Mayor Of Hell\" has the feel of an early D...</td>\n",
       "      <td>The Mayor Of Hell has the feel of an early Dea...</td>\n",
       "      <td>[the, mayor, of, hell, has, the, feel, of, an,...</td>\n",
       "    </tr>\n",
       "    <tr>\n",
       "      <th>3</th>\n",
       "      <td>positive</td>\n",
       "      <td>This is a really great short from Hal Roach. T...</td>\n",
       "      <td>This is a really great short from Hal Roach Th...</td>\n",
       "      <td>[this, is, a, really, great, short, from, hal,...</td>\n",
       "    </tr>\n",
       "    <tr>\n",
       "      <th>4</th>\n",
       "      <td>positive</td>\n",
       "      <td>A rather charming depiction of European union ...</td>\n",
       "      <td>A rather charming depiction of European union ...</td>\n",
       "      <td>[a, rather, charming, depiction, of, european,...</td>\n",
       "    </tr>\n",
       "  </tbody>\n",
       "</table>\n",
       "</div>"
      ],
      "text/plain": [
       "      label                                             review  \\\n",
       "0  negative  In the ten years since Wildside aired, nothing...   \n",
       "1  positive  This is a better-than-average entry in the Sai...   \n",
       "2  negative  \"The Mayor Of Hell\" has the feel of an early D...   \n",
       "3  positive  This is a really great short from Hal Roach. T...   \n",
       "4  positive  A rather charming depiction of European union ...   \n",
       "\n",
       "                                      review-no-punc  \\\n",
       "0  In the ten years since Wildside aired nothing ...   \n",
       "1  This is a betterthanaverage entry in the Saint...   \n",
       "2  The Mayor Of Hell has the feel of an early Dea...   \n",
       "3  This is a really great short from Hal Roach Th...   \n",
       "4  A rather charming depiction of European union ...   \n",
       "\n",
       "                                       review-tokens  \n",
       "0  [in, the, ten, years, since, wildside, aired, ...  \n",
       "1  [this, is, a, betterthanaverage, entry, in, th...  \n",
       "2  [the, mayor, of, hell, has, the, feel, of, an,...  \n",
       "3  [this, is, a, really, great, short, from, hal,...  \n",
       "4  [a, rather, charming, depiction, of, european,...  "
      ]
     },
     "execution_count": 12,
     "metadata": {},
     "output_type": "execute_result"
    }
   ],
   "source": [
    "df.head()"
   ]
  },
  {
   "cell_type": "markdown",
   "metadata": {},
   "source": [
    "### Tokenization (with regex) as some words combined in review after punctuation removal became a big word \n",
    "example : ***better-than-average*** became ***betterthanaverage***"
   ]
  },
  {
   "cell_type": "code",
   "execution_count": 13,
   "metadata": {},
   "outputs": [],
   "source": [
    "import re\n",
    "def tokenize_regex(text):\n",
    "    tokens = re.findall(r'\\b\\w+\\b', text)\n",
    "    return tokens"
   ]
  },
  {
   "cell_type": "code",
   "execution_count": 14,
   "metadata": {},
   "outputs": [],
   "source": [
    "df['review-tokens-regex'] = df['review'].apply(lambda x : tokenize_regex(x.lower()))"
   ]
  },
  {
   "cell_type": "code",
   "execution_count": 15,
   "metadata": {},
   "outputs": [
    {
     "data": {
      "text/html": [
       "<div>\n",
       "<style scoped>\n",
       "    .dataframe tbody tr th:only-of-type {\n",
       "        vertical-align: middle;\n",
       "    }\n",
       "\n",
       "    .dataframe tbody tr th {\n",
       "        vertical-align: top;\n",
       "    }\n",
       "\n",
       "    .dataframe thead th {\n",
       "        text-align: right;\n",
       "    }\n",
       "</style>\n",
       "<table border=\"1\" class=\"dataframe\">\n",
       "  <thead>\n",
       "    <tr style=\"text-align: right;\">\n",
       "      <th></th>\n",
       "      <th>label</th>\n",
       "      <th>review</th>\n",
       "      <th>review-no-punc</th>\n",
       "      <th>review-tokens</th>\n",
       "      <th>review-tokens-regex</th>\n",
       "    </tr>\n",
       "  </thead>\n",
       "  <tbody>\n",
       "    <tr>\n",
       "      <th>0</th>\n",
       "      <td>negative</td>\n",
       "      <td>In the ten years since Wildside aired, nothing...</td>\n",
       "      <td>In the ten years since Wildside aired nothing ...</td>\n",
       "      <td>[in, the, ten, years, since, wildside, aired, ...</td>\n",
       "      <td>[in, the, ten, years, since, wildside, aired, ...</td>\n",
       "    </tr>\n",
       "    <tr>\n",
       "      <th>1</th>\n",
       "      <td>positive</td>\n",
       "      <td>This is a better-than-average entry in the Sai...</td>\n",
       "      <td>This is a betterthanaverage entry in the Saint...</td>\n",
       "      <td>[this, is, a, betterthanaverage, entry, in, th...</td>\n",
       "      <td>[this, is, a, better, than, average, entry, in...</td>\n",
       "    </tr>\n",
       "    <tr>\n",
       "      <th>2</th>\n",
       "      <td>negative</td>\n",
       "      <td>\"The Mayor Of Hell\" has the feel of an early D...</td>\n",
       "      <td>The Mayor Of Hell has the feel of an early Dea...</td>\n",
       "      <td>[the, mayor, of, hell, has, the, feel, of, an,...</td>\n",
       "      <td>[the, mayor, of, hell, has, the, feel, of, an,...</td>\n",
       "    </tr>\n",
       "    <tr>\n",
       "      <th>3</th>\n",
       "      <td>positive</td>\n",
       "      <td>This is a really great short from Hal Roach. T...</td>\n",
       "      <td>This is a really great short from Hal Roach Th...</td>\n",
       "      <td>[this, is, a, really, great, short, from, hal,...</td>\n",
       "      <td>[this, is, a, really, great, short, from, hal,...</td>\n",
       "    </tr>\n",
       "    <tr>\n",
       "      <th>4</th>\n",
       "      <td>positive</td>\n",
       "      <td>A rather charming depiction of European union ...</td>\n",
       "      <td>A rather charming depiction of European union ...</td>\n",
       "      <td>[a, rather, charming, depiction, of, european,...</td>\n",
       "      <td>[a, rather, charming, depiction, of, european,...</td>\n",
       "    </tr>\n",
       "  </tbody>\n",
       "</table>\n",
       "</div>"
      ],
      "text/plain": [
       "      label                                             review  \\\n",
       "0  negative  In the ten years since Wildside aired, nothing...   \n",
       "1  positive  This is a better-than-average entry in the Sai...   \n",
       "2  negative  \"The Mayor Of Hell\" has the feel of an early D...   \n",
       "3  positive  This is a really great short from Hal Roach. T...   \n",
       "4  positive  A rather charming depiction of European union ...   \n",
       "\n",
       "                                      review-no-punc  \\\n",
       "0  In the ten years since Wildside aired nothing ...   \n",
       "1  This is a betterthanaverage entry in the Saint...   \n",
       "2  The Mayor Of Hell has the feel of an early Dea...   \n",
       "3  This is a really great short from Hal Roach Th...   \n",
       "4  A rather charming depiction of European union ...   \n",
       "\n",
       "                                       review-tokens  \\\n",
       "0  [in, the, ten, years, since, wildside, aired, ...   \n",
       "1  [this, is, a, betterthanaverage, entry, in, th...   \n",
       "2  [the, mayor, of, hell, has, the, feel, of, an,...   \n",
       "3  [this, is, a, really, great, short, from, hal,...   \n",
       "4  [a, rather, charming, depiction, of, european,...   \n",
       "\n",
       "                                 review-tokens-regex  \n",
       "0  [in, the, ten, years, since, wildside, aired, ...  \n",
       "1  [this, is, a, better, than, average, entry, in...  \n",
       "2  [the, mayor, of, hell, has, the, feel, of, an,...  \n",
       "3  [this, is, a, really, great, short, from, hal,...  \n",
       "4  [a, rather, charming, depiction, of, european,...  "
      ]
     },
     "execution_count": 15,
     "metadata": {},
     "output_type": "execute_result"
    }
   ],
   "source": [
    "df.head()"
   ]
  },
  {
   "cell_type": "markdown",
   "metadata": {},
   "source": [
    "#### Analyzing what is the minimum, maximum, and average number of words in the tokenized reviews"
   ]
  },
  {
   "cell_type": "code",
   "execution_count": 16,
   "metadata": {},
   "outputs": [
    {
     "data": {
      "text/plain": [
       "10"
      ]
     },
     "execution_count": 16,
     "metadata": {},
     "output_type": "execute_result"
    }
   ],
   "source": [
    "df['review-tokens'].apply(len).min()"
   ]
  },
  {
   "cell_type": "code",
   "execution_count": 17,
   "metadata": {},
   "outputs": [
    {
     "data": {
      "text/plain": [
       "2469"
      ]
     },
     "execution_count": 17,
     "metadata": {},
     "output_type": "execute_result"
    }
   ],
   "source": [
    "df['review-tokens'].apply(len).max()"
   ]
  },
  {
   "cell_type": "code",
   "execution_count": 18,
   "metadata": {},
   "outputs": [
    {
     "data": {
      "text/plain": [
       "231.99652"
      ]
     },
     "execution_count": 18,
     "metadata": {},
     "output_type": "execute_result"
    }
   ],
   "source": [
    "df['review-tokens'].apply(len).mean()"
   ]
  },
  {
   "cell_type": "code",
   "execution_count": 19,
   "metadata": {},
   "outputs": [
    {
     "data": {
      "text/plain": [
       "10"
      ]
     },
     "execution_count": 19,
     "metadata": {},
     "output_type": "execute_result"
    }
   ],
   "source": [
    "df['review-tokens-regex'].apply(len).min()"
   ]
  },
  {
   "cell_type": "code",
   "execution_count": 20,
   "metadata": {},
   "outputs": [
    {
     "data": {
      "text/plain": [
       "2525"
      ]
     },
     "execution_count": 20,
     "metadata": {},
     "output_type": "execute_result"
    }
   ],
   "source": [
    "df['review-tokens-regex'].apply(len).max()"
   ]
  },
  {
   "cell_type": "code",
   "execution_count": 21,
   "metadata": {},
   "outputs": [
    {
     "data": {
      "text/plain": [
       "240.886"
      ]
     },
     "execution_count": 21,
     "metadata": {},
     "output_type": "execute_result"
    }
   ],
   "source": [
    "df['review-tokens-regex'].apply(len).mean()"
   ]
  },
  {
   "cell_type": "code",
   "execution_count": 22,
   "metadata": {},
   "outputs": [],
   "source": [
    "df['tokenized_len']  = df['review-tokens'].apply(len)\n",
    "df['tokenized_len_regex']  = df['review-tokens-regex'].apply(len)\n"
   ]
  },
  {
   "cell_type": "code",
   "execution_count": 23,
   "metadata": {},
   "outputs": [
    {
     "data": {
      "text/html": [
       "<div>\n",
       "<style scoped>\n",
       "    .dataframe tbody tr th:only-of-type {\n",
       "        vertical-align: middle;\n",
       "    }\n",
       "\n",
       "    .dataframe tbody tr th {\n",
       "        vertical-align: top;\n",
       "    }\n",
       "\n",
       "    .dataframe thead th {\n",
       "        text-align: right;\n",
       "    }\n",
       "</style>\n",
       "<table border=\"1\" class=\"dataframe\">\n",
       "  <thead>\n",
       "    <tr style=\"text-align: right;\">\n",
       "      <th></th>\n",
       "      <th>label</th>\n",
       "      <th>review</th>\n",
       "      <th>review-no-punc</th>\n",
       "      <th>review-tokens</th>\n",
       "      <th>review-tokens-regex</th>\n",
       "      <th>tokenized_len</th>\n",
       "      <th>tokenized_len_regex</th>\n",
       "    </tr>\n",
       "  </thead>\n",
       "  <tbody>\n",
       "    <tr>\n",
       "      <th>0</th>\n",
       "      <td>negative</td>\n",
       "      <td>In the ten years since Wildside aired, nothing...</td>\n",
       "      <td>In the ten years since Wildside aired nothing ...</td>\n",
       "      <td>[in, the, ten, years, since, wildside, aired, ...</td>\n",
       "      <td>[in, the, ten, years, since, wildside, aired, ...</td>\n",
       "      <td>250</td>\n",
       "      <td>258</td>\n",
       "    </tr>\n",
       "    <tr>\n",
       "      <th>1</th>\n",
       "      <td>positive</td>\n",
       "      <td>This is a better-than-average entry in the Sai...</td>\n",
       "      <td>This is a betterthanaverage entry in the Saint...</td>\n",
       "      <td>[this, is, a, betterthanaverage, entry, in, th...</td>\n",
       "      <td>[this, is, a, better, than, average, entry, in...</td>\n",
       "      <td>107</td>\n",
       "      <td>113</td>\n",
       "    </tr>\n",
       "    <tr>\n",
       "      <th>2</th>\n",
       "      <td>negative</td>\n",
       "      <td>\"The Mayor Of Hell\" has the feel of an early D...</td>\n",
       "      <td>The Mayor Of Hell has the feel of an early Dea...</td>\n",
       "      <td>[the, mayor, of, hell, has, the, feel, of, an,...</td>\n",
       "      <td>[the, mayor, of, hell, has, the, feel, of, an,...</td>\n",
       "      <td>464</td>\n",
       "      <td>482</td>\n",
       "    </tr>\n",
       "    <tr>\n",
       "      <th>3</th>\n",
       "      <td>positive</td>\n",
       "      <td>This is a really great short from Hal Roach. T...</td>\n",
       "      <td>This is a really great short from Hal Roach Th...</td>\n",
       "      <td>[this, is, a, really, great, short, from, hal,...</td>\n",
       "      <td>[this, is, a, really, great, short, from, hal,...</td>\n",
       "      <td>179</td>\n",
       "      <td>186</td>\n",
       "    </tr>\n",
       "    <tr>\n",
       "      <th>4</th>\n",
       "      <td>positive</td>\n",
       "      <td>A rather charming depiction of European union ...</td>\n",
       "      <td>A rather charming depiction of European union ...</td>\n",
       "      <td>[a, rather, charming, depiction, of, european,...</td>\n",
       "      <td>[a, rather, charming, depiction, of, european,...</td>\n",
       "      <td>142</td>\n",
       "      <td>144</td>\n",
       "    </tr>\n",
       "  </tbody>\n",
       "</table>\n",
       "</div>"
      ],
      "text/plain": [
       "      label                                             review  \\\n",
       "0  negative  In the ten years since Wildside aired, nothing...   \n",
       "1  positive  This is a better-than-average entry in the Sai...   \n",
       "2  negative  \"The Mayor Of Hell\" has the feel of an early D...   \n",
       "3  positive  This is a really great short from Hal Roach. T...   \n",
       "4  positive  A rather charming depiction of European union ...   \n",
       "\n",
       "                                      review-no-punc  \\\n",
       "0  In the ten years since Wildside aired nothing ...   \n",
       "1  This is a betterthanaverage entry in the Saint...   \n",
       "2  The Mayor Of Hell has the feel of an early Dea...   \n",
       "3  This is a really great short from Hal Roach Th...   \n",
       "4  A rather charming depiction of European union ...   \n",
       "\n",
       "                                       review-tokens  \\\n",
       "0  [in, the, ten, years, since, wildside, aired, ...   \n",
       "1  [this, is, a, betterthanaverage, entry, in, th...   \n",
       "2  [the, mayor, of, hell, has, the, feel, of, an,...   \n",
       "3  [this, is, a, really, great, short, from, hal,...   \n",
       "4  [a, rather, charming, depiction, of, european,...   \n",
       "\n",
       "                                 review-tokens-regex  tokenized_len  \\\n",
       "0  [in, the, ten, years, since, wildside, aired, ...            250   \n",
       "1  [this, is, a, better, than, average, entry, in...            107   \n",
       "2  [the, mayor, of, hell, has, the, feel, of, an,...            464   \n",
       "3  [this, is, a, really, great, short, from, hal,...            179   \n",
       "4  [a, rather, charming, depiction, of, european,...            142   \n",
       "\n",
       "   tokenized_len_regex  \n",
       "0                  258  \n",
       "1                  113  \n",
       "2                  482  \n",
       "3                  186  \n",
       "4                  144  "
      ]
     },
     "execution_count": 23,
     "metadata": {},
     "output_type": "execute_result"
    }
   ],
   "source": [
    "df.head()"
   ]
  },
  {
   "cell_type": "markdown",
   "metadata": {},
   "source": [
    "### Stop Word Removal"
   ]
  },
  {
   "cell_type": "code",
   "execution_count": null,
   "metadata": {},
   "outputs": [],
   "source": [
    "pip install -U nltk"
   ]
  },
  {
   "cell_type": "code",
   "execution_count": 25,
   "metadata": {},
   "outputs": [],
   "source": [
    "from nltk.corpus import stopwords\n",
    "\n",
    "stop_words = stopwords.words('english')"
   ]
  },
  {
   "cell_type": "code",
   "execution_count": 26,
   "metadata": {},
   "outputs": [
    {
     "data": {
      "text/plain": [
       "['i',\n",
       " 'me',\n",
       " 'my',\n",
       " 'myself',\n",
       " 'we',\n",
       " 'our',\n",
       " 'ours',\n",
       " 'ourselves',\n",
       " 'you',\n",
       " \"you're\",\n",
       " \"you've\",\n",
       " \"you'll\",\n",
       " \"you'd\",\n",
       " 'your',\n",
       " 'yours',\n",
       " 'yourself',\n",
       " 'yourselves',\n",
       " 'he',\n",
       " 'him',\n",
       " 'his',\n",
       " 'himself',\n",
       " 'she',\n",
       " \"she's\",\n",
       " 'her',\n",
       " 'hers',\n",
       " 'herself',\n",
       " 'it',\n",
       " \"it's\",\n",
       " 'its',\n",
       " 'itself',\n",
       " 'they',\n",
       " 'them',\n",
       " 'their',\n",
       " 'theirs',\n",
       " 'themselves',\n",
       " 'what',\n",
       " 'which',\n",
       " 'who',\n",
       " 'whom',\n",
       " 'this',\n",
       " 'that',\n",
       " \"that'll\",\n",
       " 'these',\n",
       " 'those',\n",
       " 'am',\n",
       " 'is',\n",
       " 'are',\n",
       " 'was',\n",
       " 'were',\n",
       " 'be',\n",
       " 'been',\n",
       " 'being',\n",
       " 'have',\n",
       " 'has',\n",
       " 'had',\n",
       " 'having',\n",
       " 'do',\n",
       " 'does',\n",
       " 'did',\n",
       " 'doing',\n",
       " 'a',\n",
       " 'an',\n",
       " 'the',\n",
       " 'and',\n",
       " 'but',\n",
       " 'if',\n",
       " 'or',\n",
       " 'because',\n",
       " 'as',\n",
       " 'until',\n",
       " 'while',\n",
       " 'of',\n",
       " 'at',\n",
       " 'by',\n",
       " 'for',\n",
       " 'with',\n",
       " 'about',\n",
       " 'against',\n",
       " 'between',\n",
       " 'into',\n",
       " 'through',\n",
       " 'during',\n",
       " 'before',\n",
       " 'after',\n",
       " 'above',\n",
       " 'below',\n",
       " 'to',\n",
       " 'from',\n",
       " 'up',\n",
       " 'down',\n",
       " 'in',\n",
       " 'out',\n",
       " 'on',\n",
       " 'off',\n",
       " 'over',\n",
       " 'under',\n",
       " 'again',\n",
       " 'further',\n",
       " 'then',\n",
       " 'once',\n",
       " 'here',\n",
       " 'there',\n",
       " 'when',\n",
       " 'where',\n",
       " 'why',\n",
       " 'how',\n",
       " 'all',\n",
       " 'any',\n",
       " 'both',\n",
       " 'each',\n",
       " 'few',\n",
       " 'more',\n",
       " 'most',\n",
       " 'other',\n",
       " 'some',\n",
       " 'such',\n",
       " 'no',\n",
       " 'nor',\n",
       " 'not',\n",
       " 'only',\n",
       " 'own',\n",
       " 'same',\n",
       " 'so',\n",
       " 'than',\n",
       " 'too',\n",
       " 'very',\n",
       " 's',\n",
       " 't',\n",
       " 'can',\n",
       " 'will',\n",
       " 'just',\n",
       " 'don',\n",
       " \"don't\",\n",
       " 'should',\n",
       " \"should've\",\n",
       " 'now',\n",
       " 'd',\n",
       " 'll',\n",
       " 'm',\n",
       " 'o',\n",
       " 're',\n",
       " 've',\n",
       " 'y',\n",
       " 'ain',\n",
       " 'aren',\n",
       " \"aren't\",\n",
       " 'couldn',\n",
       " \"couldn't\",\n",
       " 'didn',\n",
       " \"didn't\",\n",
       " 'doesn',\n",
       " \"doesn't\",\n",
       " 'hadn',\n",
       " \"hadn't\",\n",
       " 'hasn',\n",
       " \"hasn't\",\n",
       " 'haven',\n",
       " \"haven't\",\n",
       " 'isn',\n",
       " \"isn't\",\n",
       " 'ma',\n",
       " 'mightn',\n",
       " \"mightn't\",\n",
       " 'mustn',\n",
       " \"mustn't\",\n",
       " 'needn',\n",
       " \"needn't\",\n",
       " 'shan',\n",
       " \"shan't\",\n",
       " 'shouldn',\n",
       " \"shouldn't\",\n",
       " 'wasn',\n",
       " \"wasn't\",\n",
       " 'weren',\n",
       " \"weren't\",\n",
       " 'won',\n",
       " \"won't\",\n",
       " 'wouldn',\n",
       " \"wouldn't\"]"
      ]
     },
     "execution_count": 26,
     "metadata": {},
     "output_type": "execute_result"
    }
   ],
   "source": [
    "stop_words"
   ]
  },
  {
   "cell_type": "markdown",
   "metadata": {},
   "source": [
    "A function that removes stop words from the tokenized reviews."
   ]
  },
  {
   "cell_type": "code",
   "execution_count": 27,
   "metadata": {},
   "outputs": [],
   "source": [
    "def remove_stopwords(review):\n",
    "    review = [word for word in review if word not in stop_words]\n",
    "    return review"
   ]
  },
  {
   "cell_type": "code",
   "execution_count": 28,
   "metadata": {},
   "outputs": [
    {
     "data": {
      "text/plain": [
       "['hi', 'harman']"
      ]
     },
     "execution_count": 28,
     "metadata": {},
     "output_type": "execute_result"
    }
   ],
   "source": [
    "#testing the function on a sentence\n",
    "test_sentence = ['hi','is','the','harman']\n",
    "\n",
    "#calling the function\n",
    "test_sentence = remove_stopwords(test_sentence)\n",
    "\n",
    "#printing the results\n",
    "test_sentence"
   ]
  },
  {
   "cell_type": "code",
   "execution_count": 29,
   "metadata": {},
   "outputs": [],
   "source": [
    "df['reviews-no-stop'] = df['review-tokens'].apply(lambda x : remove_stopwords(x))"
   ]
  },
  {
   "cell_type": "code",
   "execution_count": 30,
   "metadata": {},
   "outputs": [],
   "source": [
    "df['reviews-no-stop-regex'] = df['review-tokens-regex'].apply(lambda x : remove_stopwords(x))"
   ]
  },
  {
   "cell_type": "code",
   "execution_count": 31,
   "metadata": {},
   "outputs": [
    {
     "data": {
      "text/html": [
       "<div>\n",
       "<style scoped>\n",
       "    .dataframe tbody tr th:only-of-type {\n",
       "        vertical-align: middle;\n",
       "    }\n",
       "\n",
       "    .dataframe tbody tr th {\n",
       "        vertical-align: top;\n",
       "    }\n",
       "\n",
       "    .dataframe thead th {\n",
       "        text-align: right;\n",
       "    }\n",
       "</style>\n",
       "<table border=\"1\" class=\"dataframe\">\n",
       "  <thead>\n",
       "    <tr style=\"text-align: right;\">\n",
       "      <th></th>\n",
       "      <th>label</th>\n",
       "      <th>review</th>\n",
       "      <th>review-no-punc</th>\n",
       "      <th>review-tokens</th>\n",
       "      <th>review-tokens-regex</th>\n",
       "      <th>tokenized_len</th>\n",
       "      <th>tokenized_len_regex</th>\n",
       "      <th>reviews-no-stop</th>\n",
       "      <th>reviews-no-stop-regex</th>\n",
       "    </tr>\n",
       "  </thead>\n",
       "  <tbody>\n",
       "    <tr>\n",
       "      <th>0</th>\n",
       "      <td>negative</td>\n",
       "      <td>In the ten years since Wildside aired, nothing...</td>\n",
       "      <td>In the ten years since Wildside aired nothing ...</td>\n",
       "      <td>[in, the, ten, years, since, wildside, aired, ...</td>\n",
       "      <td>[in, the, ten, years, since, wildside, aired, ...</td>\n",
       "      <td>250</td>\n",
       "      <td>258</td>\n",
       "      <td>[ten, years, since, wildside, aired, nothing, ...</td>\n",
       "      <td>[ten, years, since, wildside, aired, nothing, ...</td>\n",
       "    </tr>\n",
       "    <tr>\n",
       "      <th>1</th>\n",
       "      <td>positive</td>\n",
       "      <td>This is a better-than-average entry in the Sai...</td>\n",
       "      <td>This is a betterthanaverage entry in the Saint...</td>\n",
       "      <td>[this, is, a, betterthanaverage, entry, in, th...</td>\n",
       "      <td>[this, is, a, better, than, average, entry, in...</td>\n",
       "      <td>107</td>\n",
       "      <td>113</td>\n",
       "      <td>[betterthanaverage, entry, saint, series, hold...</td>\n",
       "      <td>[better, average, entry, saint, series, holds,...</td>\n",
       "    </tr>\n",
       "    <tr>\n",
       "      <th>2</th>\n",
       "      <td>negative</td>\n",
       "      <td>\"The Mayor Of Hell\" has the feel of an early D...</td>\n",
       "      <td>The Mayor Of Hell has the feel of an early Dea...</td>\n",
       "      <td>[the, mayor, of, hell, has, the, feel, of, an,...</td>\n",
       "      <td>[the, mayor, of, hell, has, the, feel, of, an,...</td>\n",
       "      <td>464</td>\n",
       "      <td>482</td>\n",
       "      <td>[mayor, hell, feel, early, dead, end, kids, fi...</td>\n",
       "      <td>[mayor, hell, feel, early, dead, end, kids, fi...</td>\n",
       "    </tr>\n",
       "    <tr>\n",
       "      <th>3</th>\n",
       "      <td>positive</td>\n",
       "      <td>This is a really great short from Hal Roach. T...</td>\n",
       "      <td>This is a really great short from Hal Roach Th...</td>\n",
       "      <td>[this, is, a, really, great, short, from, hal,...</td>\n",
       "      <td>[this, is, a, really, great, short, from, hal,...</td>\n",
       "      <td>179</td>\n",
       "      <td>186</td>\n",
       "      <td>[really, great, short, hal, roach, two, main, ...</td>\n",
       "      <td>[really, great, short, hal, roach, two, main, ...</td>\n",
       "    </tr>\n",
       "    <tr>\n",
       "      <th>4</th>\n",
       "      <td>positive</td>\n",
       "      <td>A rather charming depiction of European union ...</td>\n",
       "      <td>A rather charming depiction of European union ...</td>\n",
       "      <td>[a, rather, charming, depiction, of, european,...</td>\n",
       "      <td>[a, rather, charming, depiction, of, european,...</td>\n",
       "      <td>142</td>\n",
       "      <td>144</td>\n",
       "      <td>[rather, charming, depiction, european, union,...</td>\n",
       "      <td>[rather, charming, depiction, european, union,...</td>\n",
       "    </tr>\n",
       "  </tbody>\n",
       "</table>\n",
       "</div>"
      ],
      "text/plain": [
       "      label                                             review  \\\n",
       "0  negative  In the ten years since Wildside aired, nothing...   \n",
       "1  positive  This is a better-than-average entry in the Sai...   \n",
       "2  negative  \"The Mayor Of Hell\" has the feel of an early D...   \n",
       "3  positive  This is a really great short from Hal Roach. T...   \n",
       "4  positive  A rather charming depiction of European union ...   \n",
       "\n",
       "                                      review-no-punc  \\\n",
       "0  In the ten years since Wildside aired nothing ...   \n",
       "1  This is a betterthanaverage entry in the Saint...   \n",
       "2  The Mayor Of Hell has the feel of an early Dea...   \n",
       "3  This is a really great short from Hal Roach Th...   \n",
       "4  A rather charming depiction of European union ...   \n",
       "\n",
       "                                       review-tokens  \\\n",
       "0  [in, the, ten, years, since, wildside, aired, ...   \n",
       "1  [this, is, a, betterthanaverage, entry, in, th...   \n",
       "2  [the, mayor, of, hell, has, the, feel, of, an,...   \n",
       "3  [this, is, a, really, great, short, from, hal,...   \n",
       "4  [a, rather, charming, depiction, of, european,...   \n",
       "\n",
       "                                 review-tokens-regex  tokenized_len  \\\n",
       "0  [in, the, ten, years, since, wildside, aired, ...            250   \n",
       "1  [this, is, a, better, than, average, entry, in...            107   \n",
       "2  [the, mayor, of, hell, has, the, feel, of, an,...            464   \n",
       "3  [this, is, a, really, great, short, from, hal,...            179   \n",
       "4  [a, rather, charming, depiction, of, european,...            142   \n",
       "\n",
       "   tokenized_len_regex                                    reviews-no-stop  \\\n",
       "0                  258  [ten, years, since, wildside, aired, nothing, ...   \n",
       "1                  113  [betterthanaverage, entry, saint, series, hold...   \n",
       "2                  482  [mayor, hell, feel, early, dead, end, kids, fi...   \n",
       "3                  186  [really, great, short, hal, roach, two, main, ...   \n",
       "4                  144  [rather, charming, depiction, european, union,...   \n",
       "\n",
       "                               reviews-no-stop-regex  \n",
       "0  [ten, years, since, wildside, aired, nothing, ...  \n",
       "1  [better, average, entry, saint, series, holds,...  \n",
       "2  [mayor, hell, feel, early, dead, end, kids, fi...  \n",
       "3  [really, great, short, hal, roach, two, main, ...  \n",
       "4  [rather, charming, depiction, european, union,...  "
      ]
     },
     "execution_count": 31,
     "metadata": {},
     "output_type": "execute_result"
    }
   ],
   "source": [
    "df.head()"
   ]
  },
  {
   "cell_type": "markdown",
   "metadata": {},
   "source": [
    "#### Compare the minimum, maximum, and average number of words from the tokenized reviews to the tokenized reviews with stop words removed."
   ]
  },
  {
   "cell_type": "code",
   "execution_count": 32,
   "metadata": {},
   "outputs": [
    {
     "name": "stdout",
     "output_type": "stream",
     "text": [
      "The minimum number of words with stop words removed :  6\n",
      "The maximum number of words with stop words removed :  1449\n",
      "The average number of words with stop words removed :  124.062\n",
      "\n",
      "With Regex tokenized column\n",
      "The minimum number of words with stop words removed :  6\n",
      "The maximum number of words with stop words removed :  1455\n",
      "The average number of words with stop words removed :  125.24076\n"
     ]
    }
   ],
   "source": [
    "print(\"The minimum number of words with stop words removed : \",df['reviews-no-stop'].apply(len).min())\n",
    "print(\"The maximum number of words with stop words removed : \",df['reviews-no-stop'].apply(len).max())\n",
    "print(\"The average number of words with stop words removed : \",df['reviews-no-stop'].apply(len).mean())\n",
    "\n",
    "print(\"\\nWith Regex tokenized column\")\n",
    "print(\"The minimum number of words with stop words removed : \",df['reviews-no-stop-regex'].apply(len).min())\n",
    "print(\"The maximum number of words with stop words removed : \",df['reviews-no-stop-regex'].apply(len).max())\n",
    "print(\"The average number of words with stop words removed : \",df['reviews-no-stop-regex'].apply(len).mean())"
   ]
  },
  {
   "cell_type": "markdown",
   "metadata": {},
   "source": [
    "Reflection : There would be 1449/1455 columns in dataframe as each word would be a dimension"
   ]
  },
  {
   "cell_type": "code",
   "execution_count": 33,
   "metadata": {},
   "outputs": [],
   "source": [
    "df['tokenized_len_stop']  = df['reviews-no-stop'].apply(len)\n",
    "df['tokenized_len_regex_stop']  = df['reviews-no-stop-regex'].apply(len)\n"
   ]
  },
  {
   "cell_type": "code",
   "execution_count": 34,
   "metadata": {},
   "outputs": [
    {
     "data": {
      "text/html": [
       "<div>\n",
       "<style scoped>\n",
       "    .dataframe tbody tr th:only-of-type {\n",
       "        vertical-align: middle;\n",
       "    }\n",
       "\n",
       "    .dataframe tbody tr th {\n",
       "        vertical-align: top;\n",
       "    }\n",
       "\n",
       "    .dataframe thead th {\n",
       "        text-align: right;\n",
       "    }\n",
       "</style>\n",
       "<table border=\"1\" class=\"dataframe\">\n",
       "  <thead>\n",
       "    <tr style=\"text-align: right;\">\n",
       "      <th></th>\n",
       "      <th>label</th>\n",
       "      <th>review</th>\n",
       "      <th>review-no-punc</th>\n",
       "      <th>review-tokens</th>\n",
       "      <th>review-tokens-regex</th>\n",
       "      <th>tokenized_len</th>\n",
       "      <th>tokenized_len_regex</th>\n",
       "      <th>reviews-no-stop</th>\n",
       "      <th>reviews-no-stop-regex</th>\n",
       "      <th>tokenized_len_stop</th>\n",
       "      <th>tokenized_len_regex_stop</th>\n",
       "    </tr>\n",
       "  </thead>\n",
       "  <tbody>\n",
       "    <tr>\n",
       "      <th>0</th>\n",
       "      <td>negative</td>\n",
       "      <td>In the ten years since Wildside aired, nothing...</td>\n",
       "      <td>In the ten years since Wildside aired nothing ...</td>\n",
       "      <td>[in, the, ten, years, since, wildside, aired, ...</td>\n",
       "      <td>[in, the, ten, years, since, wildside, aired, ...</td>\n",
       "      <td>250</td>\n",
       "      <td>258</td>\n",
       "      <td>[ten, years, since, wildside, aired, nothing, ...</td>\n",
       "      <td>[ten, years, since, wildside, aired, nothing, ...</td>\n",
       "      <td>147</td>\n",
       "      <td>148</td>\n",
       "    </tr>\n",
       "    <tr>\n",
       "      <th>1</th>\n",
       "      <td>positive</td>\n",
       "      <td>This is a better-than-average entry in the Sai...</td>\n",
       "      <td>This is a betterthanaverage entry in the Saint...</td>\n",
       "      <td>[this, is, a, betterthanaverage, entry, in, th...</td>\n",
       "      <td>[this, is, a, better, than, average, entry, in...</td>\n",
       "      <td>107</td>\n",
       "      <td>113</td>\n",
       "      <td>[betterthanaverage, entry, saint, series, hold...</td>\n",
       "      <td>[better, average, entry, saint, series, holds,...</td>\n",
       "      <td>55</td>\n",
       "      <td>58</td>\n",
       "    </tr>\n",
       "    <tr>\n",
       "      <th>2</th>\n",
       "      <td>negative</td>\n",
       "      <td>\"The Mayor Of Hell\" has the feel of an early D...</td>\n",
       "      <td>The Mayor Of Hell has the feel of an early Dea...</td>\n",
       "      <td>[the, mayor, of, hell, has, the, feel, of, an,...</td>\n",
       "      <td>[the, mayor, of, hell, has, the, feel, of, an,...</td>\n",
       "      <td>464</td>\n",
       "      <td>482</td>\n",
       "      <td>[mayor, hell, feel, early, dead, end, kids, fi...</td>\n",
       "      <td>[mayor, hell, feel, early, dead, end, kids, fi...</td>\n",
       "      <td>282</td>\n",
       "      <td>278</td>\n",
       "    </tr>\n",
       "    <tr>\n",
       "      <th>3</th>\n",
       "      <td>positive</td>\n",
       "      <td>This is a really great short from Hal Roach. T...</td>\n",
       "      <td>This is a really great short from Hal Roach Th...</td>\n",
       "      <td>[this, is, a, really, great, short, from, hal,...</td>\n",
       "      <td>[this, is, a, really, great, short, from, hal,...</td>\n",
       "      <td>179</td>\n",
       "      <td>186</td>\n",
       "      <td>[really, great, short, hal, roach, two, main, ...</td>\n",
       "      <td>[really, great, short, hal, roach, two, main, ...</td>\n",
       "      <td>94</td>\n",
       "      <td>96</td>\n",
       "    </tr>\n",
       "    <tr>\n",
       "      <th>4</th>\n",
       "      <td>positive</td>\n",
       "      <td>A rather charming depiction of European union ...</td>\n",
       "      <td>A rather charming depiction of European union ...</td>\n",
       "      <td>[a, rather, charming, depiction, of, european,...</td>\n",
       "      <td>[a, rather, charming, depiction, of, european,...</td>\n",
       "      <td>142</td>\n",
       "      <td>144</td>\n",
       "      <td>[rather, charming, depiction, european, union,...</td>\n",
       "      <td>[rather, charming, depiction, european, union,...</td>\n",
       "      <td>80</td>\n",
       "      <td>81</td>\n",
       "    </tr>\n",
       "  </tbody>\n",
       "</table>\n",
       "</div>"
      ],
      "text/plain": [
       "      label                                             review  \\\n",
       "0  negative  In the ten years since Wildside aired, nothing...   \n",
       "1  positive  This is a better-than-average entry in the Sai...   \n",
       "2  negative  \"The Mayor Of Hell\" has the feel of an early D...   \n",
       "3  positive  This is a really great short from Hal Roach. T...   \n",
       "4  positive  A rather charming depiction of European union ...   \n",
       "\n",
       "                                      review-no-punc  \\\n",
       "0  In the ten years since Wildside aired nothing ...   \n",
       "1  This is a betterthanaverage entry in the Saint...   \n",
       "2  The Mayor Of Hell has the feel of an early Dea...   \n",
       "3  This is a really great short from Hal Roach Th...   \n",
       "4  A rather charming depiction of European union ...   \n",
       "\n",
       "                                       review-tokens  \\\n",
       "0  [in, the, ten, years, since, wildside, aired, ...   \n",
       "1  [this, is, a, betterthanaverage, entry, in, th...   \n",
       "2  [the, mayor, of, hell, has, the, feel, of, an,...   \n",
       "3  [this, is, a, really, great, short, from, hal,...   \n",
       "4  [a, rather, charming, depiction, of, european,...   \n",
       "\n",
       "                                 review-tokens-regex  tokenized_len  \\\n",
       "0  [in, the, ten, years, since, wildside, aired, ...            250   \n",
       "1  [this, is, a, better, than, average, entry, in...            107   \n",
       "2  [the, mayor, of, hell, has, the, feel, of, an,...            464   \n",
       "3  [this, is, a, really, great, short, from, hal,...            179   \n",
       "4  [a, rather, charming, depiction, of, european,...            142   \n",
       "\n",
       "   tokenized_len_regex                                    reviews-no-stop  \\\n",
       "0                  258  [ten, years, since, wildside, aired, nothing, ...   \n",
       "1                  113  [betterthanaverage, entry, saint, series, hold...   \n",
       "2                  482  [mayor, hell, feel, early, dead, end, kids, fi...   \n",
       "3                  186  [really, great, short, hal, roach, two, main, ...   \n",
       "4                  144  [rather, charming, depiction, european, union,...   \n",
       "\n",
       "                               reviews-no-stop-regex  tokenized_len_stop  \\\n",
       "0  [ten, years, since, wildside, aired, nothing, ...                 147   \n",
       "1  [better, average, entry, saint, series, holds,...                  55   \n",
       "2  [mayor, hell, feel, early, dead, end, kids, fi...                 282   \n",
       "3  [really, great, short, hal, roach, two, main, ...                  94   \n",
       "4  [rather, charming, depiction, european, union,...                  80   \n",
       "\n",
       "   tokenized_len_regex_stop  \n",
       "0                       148  \n",
       "1                        58  \n",
       "2                       278  \n",
       "3                        96  \n",
       "4                        81  "
      ]
     },
     "execution_count": 34,
     "metadata": {},
     "output_type": "execute_result"
    }
   ],
   "source": [
    "df.head()"
   ]
  },
  {
   "cell_type": "markdown",
   "metadata": {},
   "source": [
    "### Stemming"
   ]
  },
  {
   "cell_type": "code",
   "execution_count": null,
   "metadata": {},
   "outputs": [],
   "source": [
    "#importing libraries\n",
    "import nltk\n",
    "nltk.download('punkt')\n",
    "\n",
    "from nltk.stem import PorterStemmer"
   ]
  },
  {
   "cell_type": "code",
   "execution_count": 36,
   "metadata": {},
   "outputs": [],
   "source": [
    "#instantiating an object\n",
    "stemmer = PorterStemmer()"
   ]
  },
  {
   "cell_type": "code",
   "execution_count": 44,
   "metadata": {},
   "outputs": [
    {
     "name": "stdout",
     "output_type": "stream",
     "text": [
      "['help', 'play', 'harman', 'fun', 'messag']\n"
     ]
    }
   ],
   "source": [
    "def stem_text(review):\n",
    "    stemmed_words = [stemmer.stem(word) for word in review]\n",
    "    return stemmed_words\n",
    "\n",
    "text = ['Helping', 'Playing', 'harman' ,'fun','messaging']\n",
    "\n",
    "text = stem_text(text)\n",
    "print(text)\n",
    "    "
   ]
  },
  {
   "cell_type": "code",
   "execution_count": 63,
   "metadata": {},
   "outputs": [],
   "source": [
    "df['reviews-no-stop-stemmed']  = df['reviews-no-stop'].apply(lambda x : stem_text(x))\n",
    "df['reviews-no-stop-regex-stemmed']  = df['reviews-no-stop-regex'].apply(lambda x : stem_text(x))"
   ]
  },
  {
   "cell_type": "code",
   "execution_count": 46,
   "metadata": {},
   "outputs": [
    {
     "data": {
      "text/html": [
       "<div>\n",
       "<style scoped>\n",
       "    .dataframe tbody tr th:only-of-type {\n",
       "        vertical-align: middle;\n",
       "    }\n",
       "\n",
       "    .dataframe tbody tr th {\n",
       "        vertical-align: top;\n",
       "    }\n",
       "\n",
       "    .dataframe thead th {\n",
       "        text-align: right;\n",
       "    }\n",
       "</style>\n",
       "<table border=\"1\" class=\"dataframe\">\n",
       "  <thead>\n",
       "    <tr style=\"text-align: right;\">\n",
       "      <th></th>\n",
       "      <th>label</th>\n",
       "      <th>review</th>\n",
       "      <th>review-no-punc</th>\n",
       "      <th>review-tokens</th>\n",
       "      <th>review-tokens-regex</th>\n",
       "      <th>tokenized_len</th>\n",
       "      <th>tokenized_len_regex</th>\n",
       "      <th>reviews-no-stop</th>\n",
       "      <th>reviews-no-stop-regex</th>\n",
       "      <th>tokenized_len_stop</th>\n",
       "      <th>tokenized_len_regex_stop</th>\n",
       "      <th>reviews-no-stop-stemmed</th>\n",
       "    </tr>\n",
       "  </thead>\n",
       "  <tbody>\n",
       "    <tr>\n",
       "      <th>0</th>\n",
       "      <td>negative</td>\n",
       "      <td>In the ten years since Wildside aired, nothing...</td>\n",
       "      <td>In the ten years since Wildside aired nothing ...</td>\n",
       "      <td>[in, the, ten, years, since, wildside, aired, ...</td>\n",
       "      <td>[in, the, ten, years, since, wildside, aired, ...</td>\n",
       "      <td>250</td>\n",
       "      <td>258</td>\n",
       "      <td>[ten, years, since, wildside, aired, nothing, ...</td>\n",
       "      <td>[ten, years, since, wildside, aired, nothing, ...</td>\n",
       "      <td>147</td>\n",
       "      <td>148</td>\n",
       "      <td>[ten, year, sinc, wildsid, air, noth, realli, ...</td>\n",
       "    </tr>\n",
       "    <tr>\n",
       "      <th>1</th>\n",
       "      <td>positive</td>\n",
       "      <td>This is a better-than-average entry in the Sai...</td>\n",
       "      <td>This is a betterthanaverage entry in the Saint...</td>\n",
       "      <td>[this, is, a, betterthanaverage, entry, in, th...</td>\n",
       "      <td>[this, is, a, better, than, average, entry, in...</td>\n",
       "      <td>107</td>\n",
       "      <td>113</td>\n",
       "      <td>[betterthanaverage, entry, saint, series, hold...</td>\n",
       "      <td>[better, average, entry, saint, series, holds,...</td>\n",
       "      <td>55</td>\n",
       "      <td>58</td>\n",
       "      <td>[betterthanaverag, entri, saint, seri, hold, i...</td>\n",
       "    </tr>\n",
       "    <tr>\n",
       "      <th>2</th>\n",
       "      <td>negative</td>\n",
       "      <td>\"The Mayor Of Hell\" has the feel of an early D...</td>\n",
       "      <td>The Mayor Of Hell has the feel of an early Dea...</td>\n",
       "      <td>[the, mayor, of, hell, has, the, feel, of, an,...</td>\n",
       "      <td>[the, mayor, of, hell, has, the, feel, of, an,...</td>\n",
       "      <td>464</td>\n",
       "      <td>482</td>\n",
       "      <td>[mayor, hell, feel, early, dead, end, kids, fi...</td>\n",
       "      <td>[mayor, hell, feel, early, dead, end, kids, fi...</td>\n",
       "      <td>282</td>\n",
       "      <td>278</td>\n",
       "      <td>[mayor, hell, feel, earli, dead, end, kid, fil...</td>\n",
       "    </tr>\n",
       "    <tr>\n",
       "      <th>3</th>\n",
       "      <td>positive</td>\n",
       "      <td>This is a really great short from Hal Roach. T...</td>\n",
       "      <td>This is a really great short from Hal Roach Th...</td>\n",
       "      <td>[this, is, a, really, great, short, from, hal,...</td>\n",
       "      <td>[this, is, a, really, great, short, from, hal,...</td>\n",
       "      <td>179</td>\n",
       "      <td>186</td>\n",
       "      <td>[really, great, short, hal, roach, two, main, ...</td>\n",
       "      <td>[really, great, short, hal, roach, two, main, ...</td>\n",
       "      <td>94</td>\n",
       "      <td>96</td>\n",
       "      <td>[realli, great, short, hal, roach, two, main, ...</td>\n",
       "    </tr>\n",
       "    <tr>\n",
       "      <th>4</th>\n",
       "      <td>positive</td>\n",
       "      <td>A rather charming depiction of European union ...</td>\n",
       "      <td>A rather charming depiction of European union ...</td>\n",
       "      <td>[a, rather, charming, depiction, of, european,...</td>\n",
       "      <td>[a, rather, charming, depiction, of, european,...</td>\n",
       "      <td>142</td>\n",
       "      <td>144</td>\n",
       "      <td>[rather, charming, depiction, european, union,...</td>\n",
       "      <td>[rather, charming, depiction, european, union,...</td>\n",
       "      <td>80</td>\n",
       "      <td>81</td>\n",
       "      <td>[rather, charm, depict, european, union, begin...</td>\n",
       "    </tr>\n",
       "  </tbody>\n",
       "</table>\n",
       "</div>"
      ],
      "text/plain": [
       "      label                                             review  \\\n",
       "0  negative  In the ten years since Wildside aired, nothing...   \n",
       "1  positive  This is a better-than-average entry in the Sai...   \n",
       "2  negative  \"The Mayor Of Hell\" has the feel of an early D...   \n",
       "3  positive  This is a really great short from Hal Roach. T...   \n",
       "4  positive  A rather charming depiction of European union ...   \n",
       "\n",
       "                                      review-no-punc  \\\n",
       "0  In the ten years since Wildside aired nothing ...   \n",
       "1  This is a betterthanaverage entry in the Saint...   \n",
       "2  The Mayor Of Hell has the feel of an early Dea...   \n",
       "3  This is a really great short from Hal Roach Th...   \n",
       "4  A rather charming depiction of European union ...   \n",
       "\n",
       "                                       review-tokens  \\\n",
       "0  [in, the, ten, years, since, wildside, aired, ...   \n",
       "1  [this, is, a, betterthanaverage, entry, in, th...   \n",
       "2  [the, mayor, of, hell, has, the, feel, of, an,...   \n",
       "3  [this, is, a, really, great, short, from, hal,...   \n",
       "4  [a, rather, charming, depiction, of, european,...   \n",
       "\n",
       "                                 review-tokens-regex  tokenized_len  \\\n",
       "0  [in, the, ten, years, since, wildside, aired, ...            250   \n",
       "1  [this, is, a, better, than, average, entry, in...            107   \n",
       "2  [the, mayor, of, hell, has, the, feel, of, an,...            464   \n",
       "3  [this, is, a, really, great, short, from, hal,...            179   \n",
       "4  [a, rather, charming, depiction, of, european,...            142   \n",
       "\n",
       "   tokenized_len_regex                                    reviews-no-stop  \\\n",
       "0                  258  [ten, years, since, wildside, aired, nothing, ...   \n",
       "1                  113  [betterthanaverage, entry, saint, series, hold...   \n",
       "2                  482  [mayor, hell, feel, early, dead, end, kids, fi...   \n",
       "3                  186  [really, great, short, hal, roach, two, main, ...   \n",
       "4                  144  [rather, charming, depiction, european, union,...   \n",
       "\n",
       "                               reviews-no-stop-regex  tokenized_len_stop  \\\n",
       "0  [ten, years, since, wildside, aired, nothing, ...                 147   \n",
       "1  [better, average, entry, saint, series, holds,...                  55   \n",
       "2  [mayor, hell, feel, early, dead, end, kids, fi...                 282   \n",
       "3  [really, great, short, hal, roach, two, main, ...                  94   \n",
       "4  [rather, charming, depiction, european, union,...                  80   \n",
       "\n",
       "   tokenized_len_regex_stop                            reviews-no-stop-stemmed  \n",
       "0                       148  [ten, year, sinc, wildsid, air, noth, realli, ...  \n",
       "1                        58  [betterthanaverag, entri, saint, seri, hold, i...  \n",
       "2                       278  [mayor, hell, feel, earli, dead, end, kid, fil...  \n",
       "3                        96  [realli, great, short, hal, roach, two, main, ...  \n",
       "4                        81  [rather, charm, depict, european, union, begin...  "
      ]
     },
     "execution_count": 46,
     "metadata": {},
     "output_type": "execute_result"
    }
   ],
   "source": [
    "df.head()"
   ]
  },
  {
   "cell_type": "markdown",
   "metadata": {},
   "source": [
    "### Lemmatization"
   ]
  },
  {
   "cell_type": "code",
   "execution_count": null,
   "metadata": {},
   "outputs": [],
   "source": [
    "nltk.download('wordnet')\n",
    "from nltk.stem import WordNetLemmatizer"
   ]
  },
  {
   "cell_type": "code",
   "execution_count": 48,
   "metadata": {},
   "outputs": [],
   "source": [
    "#instantiating an object\n",
    "lemmater = WordNetLemmatizer()"
   ]
  },
  {
   "cell_type": "code",
   "execution_count": 61,
   "metadata": {},
   "outputs": [
    {
     "name": "stdout",
     "output_type": "stream",
     "text": [
      "['Helping', 'Playing', 'harman', 'fun', 'message']\n"
     ]
    }
   ],
   "source": [
    "def lemmatize_text(review):\n",
    "    review = [lemmater.lemmatize(word,'v') for word in review]\n",
    "    return review\n",
    "\n",
    "#testing the function\n",
    "text = ['Helping', 'Playing', 'harman' ,'fun','messaging']\n",
    "\n",
    "text = lemmatize_text(text)\n",
    "print(text)"
   ]
  },
  {
   "cell_type": "code",
   "execution_count": 64,
   "metadata": {},
   "outputs": [
    {
     "data": {
      "text/html": [
       "<div>\n",
       "<style scoped>\n",
       "    .dataframe tbody tr th:only-of-type {\n",
       "        vertical-align: middle;\n",
       "    }\n",
       "\n",
       "    .dataframe tbody tr th {\n",
       "        vertical-align: top;\n",
       "    }\n",
       "\n",
       "    .dataframe thead th {\n",
       "        text-align: right;\n",
       "    }\n",
       "</style>\n",
       "<table border=\"1\" class=\"dataframe\">\n",
       "  <thead>\n",
       "    <tr style=\"text-align: right;\">\n",
       "      <th></th>\n",
       "      <th>label</th>\n",
       "      <th>review</th>\n",
       "      <th>review-no-punc</th>\n",
       "      <th>review-tokens</th>\n",
       "      <th>review-tokens-regex</th>\n",
       "      <th>tokenized_len</th>\n",
       "      <th>tokenized_len_regex</th>\n",
       "      <th>reviews-no-stop</th>\n",
       "      <th>reviews-no-stop-regex</th>\n",
       "      <th>tokenized_len_stop</th>\n",
       "      <th>tokenized_len_regex_stop</th>\n",
       "      <th>reviews-no-stop-stemmed</th>\n",
       "      <th>reviews-no-stop-lem</th>\n",
       "      <th>reviews-no-stop-regex-stemmed</th>\n",
       "      <th>reviews-no-stop-regex-lem</th>\n",
       "    </tr>\n",
       "  </thead>\n",
       "  <tbody>\n",
       "    <tr>\n",
       "      <th>0</th>\n",
       "      <td>negative</td>\n",
       "      <td>In the ten years since Wildside aired, nothing...</td>\n",
       "      <td>In the ten years since Wildside aired nothing ...</td>\n",
       "      <td>[in, the, ten, years, since, wildside, aired, ...</td>\n",
       "      <td>[in, the, ten, years, since, wildside, aired, ...</td>\n",
       "      <td>250</td>\n",
       "      <td>258</td>\n",
       "      <td>[ten, years, since, wildside, aired, nothing, ...</td>\n",
       "      <td>[ten, years, since, wildside, aired, nothing, ...</td>\n",
       "      <td>147</td>\n",
       "      <td>148</td>\n",
       "      <td>[ten, year, sinc, wildsid, air, noth, realli, ...</td>\n",
       "      <td>[ten, years, since, wildside, air, nothing, re...</td>\n",
       "      <td>[ten, year, sinc, wildsid, air, noth, realli, ...</td>\n",
       "      <td>[ten, years, since, wildside, air, nothing, re...</td>\n",
       "    </tr>\n",
       "    <tr>\n",
       "      <th>1</th>\n",
       "      <td>positive</td>\n",
       "      <td>This is a better-than-average entry in the Sai...</td>\n",
       "      <td>This is a betterthanaverage entry in the Saint...</td>\n",
       "      <td>[this, is, a, betterthanaverage, entry, in, th...</td>\n",
       "      <td>[this, is, a, better, than, average, entry, in...</td>\n",
       "      <td>107</td>\n",
       "      <td>113</td>\n",
       "      <td>[betterthanaverage, entry, saint, series, hold...</td>\n",
       "      <td>[better, average, entry, saint, series, holds,...</td>\n",
       "      <td>55</td>\n",
       "      <td>58</td>\n",
       "      <td>[betterthanaverag, entri, saint, seri, hold, i...</td>\n",
       "      <td>[betterthanaverage, entry, saint, series, hold...</td>\n",
       "      <td>[better, averag, entri, saint, seri, hold, int...</td>\n",
       "      <td>[better, average, entry, saint, series, hold, ...</td>\n",
       "    </tr>\n",
       "    <tr>\n",
       "      <th>2</th>\n",
       "      <td>negative</td>\n",
       "      <td>\"The Mayor Of Hell\" has the feel of an early D...</td>\n",
       "      <td>The Mayor Of Hell has the feel of an early Dea...</td>\n",
       "      <td>[the, mayor, of, hell, has, the, feel, of, an,...</td>\n",
       "      <td>[the, mayor, of, hell, has, the, feel, of, an,...</td>\n",
       "      <td>464</td>\n",
       "      <td>482</td>\n",
       "      <td>[mayor, hell, feel, early, dead, end, kids, fi...</td>\n",
       "      <td>[mayor, hell, feel, early, dead, end, kids, fi...</td>\n",
       "      <td>282</td>\n",
       "      <td>278</td>\n",
       "      <td>[mayor, hell, feel, earli, dead, end, kid, fil...</td>\n",
       "      <td>[mayor, hell, feel, early, dead, end, kid, fil...</td>\n",
       "      <td>[mayor, hell, feel, earli, dead, end, kid, fil...</td>\n",
       "      <td>[mayor, hell, feel, early, dead, end, kid, fil...</td>\n",
       "    </tr>\n",
       "    <tr>\n",
       "      <th>3</th>\n",
       "      <td>positive</td>\n",
       "      <td>This is a really great short from Hal Roach. T...</td>\n",
       "      <td>This is a really great short from Hal Roach Th...</td>\n",
       "      <td>[this, is, a, really, great, short, from, hal,...</td>\n",
       "      <td>[this, is, a, really, great, short, from, hal,...</td>\n",
       "      <td>179</td>\n",
       "      <td>186</td>\n",
       "      <td>[really, great, short, hal, roach, two, main, ...</td>\n",
       "      <td>[really, great, short, hal, roach, two, main, ...</td>\n",
       "      <td>94</td>\n",
       "      <td>96</td>\n",
       "      <td>[realli, great, short, hal, roach, two, main, ...</td>\n",
       "      <td>[really, great, short, hal, roach, two, main, ...</td>\n",
       "      <td>[realli, great, short, hal, roach, two, main, ...</td>\n",
       "      <td>[really, great, short, hal, roach, two, main, ...</td>\n",
       "    </tr>\n",
       "    <tr>\n",
       "      <th>4</th>\n",
       "      <td>positive</td>\n",
       "      <td>A rather charming depiction of European union ...</td>\n",
       "      <td>A rather charming depiction of European union ...</td>\n",
       "      <td>[a, rather, charming, depiction, of, european,...</td>\n",
       "      <td>[a, rather, charming, depiction, of, european,...</td>\n",
       "      <td>142</td>\n",
       "      <td>144</td>\n",
       "      <td>[rather, charming, depiction, european, union,...</td>\n",
       "      <td>[rather, charming, depiction, european, union,...</td>\n",
       "      <td>80</td>\n",
       "      <td>81</td>\n",
       "      <td>[rather, charm, depict, european, union, begin...</td>\n",
       "      <td>[rather, charm, depiction, european, union, be...</td>\n",
       "      <td>[rather, charm, depict, european, union, begin...</td>\n",
       "      <td>[rather, charm, depiction, european, union, be...</td>\n",
       "    </tr>\n",
       "  </tbody>\n",
       "</table>\n",
       "</div>"
      ],
      "text/plain": [
       "      label                                             review  \\\n",
       "0  negative  In the ten years since Wildside aired, nothing...   \n",
       "1  positive  This is a better-than-average entry in the Sai...   \n",
       "2  negative  \"The Mayor Of Hell\" has the feel of an early D...   \n",
       "3  positive  This is a really great short from Hal Roach. T...   \n",
       "4  positive  A rather charming depiction of European union ...   \n",
       "\n",
       "                                      review-no-punc  \\\n",
       "0  In the ten years since Wildside aired nothing ...   \n",
       "1  This is a betterthanaverage entry in the Saint...   \n",
       "2  The Mayor Of Hell has the feel of an early Dea...   \n",
       "3  This is a really great short from Hal Roach Th...   \n",
       "4  A rather charming depiction of European union ...   \n",
       "\n",
       "                                       review-tokens  \\\n",
       "0  [in, the, ten, years, since, wildside, aired, ...   \n",
       "1  [this, is, a, betterthanaverage, entry, in, th...   \n",
       "2  [the, mayor, of, hell, has, the, feel, of, an,...   \n",
       "3  [this, is, a, really, great, short, from, hal,...   \n",
       "4  [a, rather, charming, depiction, of, european,...   \n",
       "\n",
       "                                 review-tokens-regex  tokenized_len  \\\n",
       "0  [in, the, ten, years, since, wildside, aired, ...            250   \n",
       "1  [this, is, a, better, than, average, entry, in...            107   \n",
       "2  [the, mayor, of, hell, has, the, feel, of, an,...            464   \n",
       "3  [this, is, a, really, great, short, from, hal,...            179   \n",
       "4  [a, rather, charming, depiction, of, european,...            142   \n",
       "\n",
       "   tokenized_len_regex                                    reviews-no-stop  \\\n",
       "0                  258  [ten, years, since, wildside, aired, nothing, ...   \n",
       "1                  113  [betterthanaverage, entry, saint, series, hold...   \n",
       "2                  482  [mayor, hell, feel, early, dead, end, kids, fi...   \n",
       "3                  186  [really, great, short, hal, roach, two, main, ...   \n",
       "4                  144  [rather, charming, depiction, european, union,...   \n",
       "\n",
       "                               reviews-no-stop-regex  tokenized_len_stop  \\\n",
       "0  [ten, years, since, wildside, aired, nothing, ...                 147   \n",
       "1  [better, average, entry, saint, series, holds,...                  55   \n",
       "2  [mayor, hell, feel, early, dead, end, kids, fi...                 282   \n",
       "3  [really, great, short, hal, roach, two, main, ...                  94   \n",
       "4  [rather, charming, depiction, european, union,...                  80   \n",
       "\n",
       "   tokenized_len_regex_stop  \\\n",
       "0                       148   \n",
       "1                        58   \n",
       "2                       278   \n",
       "3                        96   \n",
       "4                        81   \n",
       "\n",
       "                             reviews-no-stop-stemmed  \\\n",
       "0  [ten, year, sinc, wildsid, air, noth, realli, ...   \n",
       "1  [betterthanaverag, entri, saint, seri, hold, i...   \n",
       "2  [mayor, hell, feel, earli, dead, end, kid, fil...   \n",
       "3  [realli, great, short, hal, roach, two, main, ...   \n",
       "4  [rather, charm, depict, european, union, begin...   \n",
       "\n",
       "                                 reviews-no-stop-lem  \\\n",
       "0  [ten, years, since, wildside, air, nothing, re...   \n",
       "1  [betterthanaverage, entry, saint, series, hold...   \n",
       "2  [mayor, hell, feel, early, dead, end, kid, fil...   \n",
       "3  [really, great, short, hal, roach, two, main, ...   \n",
       "4  [rather, charm, depiction, european, union, be...   \n",
       "\n",
       "                       reviews-no-stop-regex-stemmed  \\\n",
       "0  [ten, year, sinc, wildsid, air, noth, realli, ...   \n",
       "1  [better, averag, entri, saint, seri, hold, int...   \n",
       "2  [mayor, hell, feel, earli, dead, end, kid, fil...   \n",
       "3  [realli, great, short, hal, roach, two, main, ...   \n",
       "4  [rather, charm, depict, european, union, begin...   \n",
       "\n",
       "                           reviews-no-stop-regex-lem  \n",
       "0  [ten, years, since, wildside, air, nothing, re...  \n",
       "1  [better, average, entry, saint, series, hold, ...  \n",
       "2  [mayor, hell, feel, early, dead, end, kid, fil...  \n",
       "3  [really, great, short, hal, roach, two, main, ...  \n",
       "4  [rather, charm, depiction, european, union, be...  "
      ]
     },
     "execution_count": 64,
     "metadata": {},
     "output_type": "execute_result"
    }
   ],
   "source": [
    "df['reviews-no-stop-lem']  = df['reviews-no-stop'].apply(lambda x : lemmatize_text(x))\n",
    "df['reviews-no-stop-regex-lem']  = df['reviews-no-stop-regex'].apply(lambda x : lemmatize_text(x))\n",
    "df.head()"
   ]
  },
  {
   "cell_type": "code",
   "execution_count": 79,
   "metadata": {},
   "outputs": [
    {
     "name": "stdout",
     "output_type": "stream",
     "text": [
      "Comaring the Stemming and Lemmatization Result\n",
      "\n",
      "For String split tokens\n",
      "[['ten', 'year', 'sinc', 'wildsid', 'air', 'noth', 'realli', 'come', 'close', 'qualiti', 'local', 'product', 'includ', 'two', 'seri', 'enjoy', 'overr', 'underbelli', 'brought', 'life', 'event', 'recent', 'crimin', 'histori', 'sydney', 'melbourn', 'miniseri', 'blue', 'murder', 'also', 'star', 'toni', 'martin', 'someon', 'side', 'law', 'may', 'exceptionbr', 'br', 'wildsid', 'current', 'repeat', 'late', 'night', 'abc', 'watch', 'show', 'quit', 'im', 'still', 'impress', 'uncompromis', 'stori', 'line', 'human', 'charact', 'cast', 'excel', 'toni', 'martin', 'detect', 'haunt', 'disappear', 'son', 'rachael', 'blake', 'later', 'hook', 'martin', 'real', 'life', 'commun', 'worker', 'struggl', 'alcohol', 'alex', 'dimitriad', 'young', 'cop', 'whose', 'vice', 'gambl', 'equal', 'good', 'support', 'role', 'provid', 'aaron', 'pederson', 'jessica', 'napier', 'mari', 'cousta', 'ye', 'effi', 'young', 'abbi', 'cornishbr', 'br', 'abc', 'inexplic', 'releas', 'first', 'three', 'episod', 'dvd', 'coupl', 'year', 'ago', 'logic', 'sort', 'market', 'beyond', 'im', 'guess', 'may', 'someth', 'licens', 'disagr', 'origin', 'producersbr', 'br', 'great', 'seri', 'age', 'remark', 'well', 'here', 'hope', 'abc', 'dvd', 'depart', 'get', 'act', 'togetherbr', 'br', 'accord', 'moder', 'abc', 'messag', 'board', 'sort', 'dvd', 'releas', 'due', 'decemb', '2009']]\n",
      "[['ten', 'years', 'since', 'wildside', 'air', 'nothing', 'really', 'come', 'close', 'quality', 'local', 'production', 'include', 'two', 'series', 'enjoyable', 'overrate', 'underbelly', 'bring', 'life', 'events', 'recent', 'criminal', 'history', 'sydney', 'melbourne', 'miniseries', 'blue', 'murder', 'also', 'star', 'tony', 'martin', 'someone', 'side', 'law', 'may', 'exceptionbr', 'br', 'wildside', 'currently', 'repeat', 'late', 'night', 'abc', 'watch', 'show', 'quite', 'im', 'still', 'impress', 'uncompromising', 'story', 'line', 'human', 'character', 'cast', 'excellent', 'tony', 'martin', 'detective', 'haunt', 'disappearance', 'son', 'rachael', 'blake', 'later', 'hook', 'martin', 'real', 'life', 'community', 'worker', 'struggle', 'alcoholism', 'alex', 'dimitriades', 'young', 'cop', 'whose', 'vice', 'gamble', 'equally', 'good', 'support', 'roles', 'provide', 'aaron', 'pederson', 'jessica', 'napier', 'mary', 'coustas', 'yes', 'effie', 'young', 'abbie', 'cornishbr', 'br', 'abc', 'inexplicably', 'release', 'first', 'three', 'episodes', 'dvd', 'couple', 'years', 'ago', 'logic', 'sort', 'market', 'beyond', 'im', 'guess', 'may', 'something', 'license', 'disagreements', 'original', 'producersbr', 'br', 'great', 'series', 'age', 'remarkably', 'well', 'heres', 'hop', 'abcs', 'dvd', 'department', 'get', 'act', 'togetherbr', 'br', 'accord', 'moderator', 'abc', 'message', 'board', 'sort', 'dvd', 'release', 'due', 'december', '2009']]\n",
      "\n",
      "------------------------------\n",
      "\n",
      "For Regex split tokens\n",
      "[['ten', 'year', 'sinc', 'wildsid', 'air', 'noth', 'realli', 'come', 'close', 'qualiti', 'local', 'product', 'includ', 'two', 'seri', 'enjoy', 'overr', 'underbelli', 'brought', 'life', 'event', 'recent', 'crimin', 'histori', 'sydney', 'melbourn', 'miniseri', 'blue', 'murder', 'also', 'star', 'toni', 'martin', 'someon', 'side', 'law', 'may', 'except', 'br', 'br', 'wildsid', 'current', 'repeat', 'late', 'night', 'abc', 'watch', 'show', 'quit', 'still', 'impress', 'uncompromis', 'stori', 'line', 'human', 'charact', 'cast', 'excel', 'toni', 'martin', 'detect', 'haunt', 'disappear', 'son', 'rachael', 'blake', 'later', 'hook', 'martin', 'real', 'life', 'commun', 'worker', 'struggl', 'alcohol', 'alex', 'dimitriad', 'young', 'cop', 'whose', 'vice', 'gambl', 'equal', 'good', 'support', 'role', 'provid', 'aaron', 'pederson', 'jessica', 'napier', 'mari', 'cousta', 'ye', 'effi', 'young', 'abbi', 'cornish', 'br', 'br', 'abc', 'inexplic', 'releas', 'first', 'three', 'episod', 'dvd', 'coupl', 'year', 'ago', 'logic', 'sort', 'market', 'beyond', 'guess', 'may', 'someth', 'licens', 'disagr', 'origin', 'produc', 'br', 'br', 'great', 'seri', 'age', 'remark', 'well', 'hope', 'abc', 'dvd', 'depart', 'get', 'act', 'togeth', 'br', 'br', 'accord', 'moder', 'abc', 'messag', 'board', 'sort', 'dvd', 'releas', 'due', 'decemb', '2009']]\n",
      "[['ten', 'years', 'since', 'wildside', 'air', 'nothing', 'really', 'come', 'close', 'quality', 'local', 'production', 'include', 'two', 'series', 'enjoyable', 'overrate', 'underbelly', 'bring', 'life', 'events', 'recent', 'criminal', 'history', 'sydney', 'melbourne', 'miniseries', 'blue', 'murder', 'also', 'star', 'tony', 'martin', 'someone', 'side', 'law', 'may', 'exception', 'br', 'br', 'wildside', 'currently', 'repeat', 'late', 'night', 'abc', 'watch', 'show', 'quite', 'still', 'impress', 'uncompromising', 'story', 'line', 'human', 'character', 'cast', 'excellent', 'tony', 'martin', 'detective', 'haunt', 'disappearance', 'son', 'rachael', 'blake', 'later', 'hook', 'martin', 'real', 'life', 'community', 'worker', 'struggle', 'alcoholism', 'alex', 'dimitriades', 'young', 'cop', 'whose', 'vice', 'gamble', 'equally', 'good', 'support', 'roles', 'provide', 'aaron', 'pederson', 'jessica', 'napier', 'mary', 'coustas', 'yes', 'effie', 'young', 'abbie', 'cornish', 'br', 'br', 'abc', 'inexplicably', 'release', 'first', 'three', 'episodes', 'dvd', 'couple', 'years', 'ago', 'logic', 'sort', 'market', 'beyond', 'guess', 'may', 'something', 'license', 'disagreements', 'original', 'producers', 'br', 'br', 'great', 'series', 'age', 'remarkably', 'well', 'hop', 'abc', 'dvd', 'department', 'get', 'act', 'together', 'br', 'br', 'accord', 'moderator', 'abc', 'message', 'board', 'sort', 'dvd', 'release', 'due', 'december', '2009']]\n"
     ]
    }
   ],
   "source": [
    "print(\"Comaring the Stemming and Lemmatization Result\\n\")\n",
    "print(\"For String split tokens\")\n",
    "print(df[:1]['reviews-no-stop-stemmed'].to_list())\n",
    "print(df[:1]['reviews-no-stop-lem'].to_list())\n",
    "print(\"\\n------------------------------\\n\")\n",
    "print(\"For Regex split tokens\")\n",
    "print(df[0:1]['reviews-no-stop-regex-stemmed'].to_list())\n",
    "print(df[0:1]['reviews-no-stop-regex-lem'].to_list())"
   ]
  }
 ],
 "metadata": {
  "kernelspec": {
   "display_name": "THE_ONE",
   "language": "python",
   "name": "python3"
  },
  "language_info": {
   "codemirror_mode": {
    "name": "ipython",
    "version": 3
   },
   "file_extension": ".py",
   "mimetype": "text/x-python",
   "name": "python",
   "nbconvert_exporter": "python",
   "pygments_lexer": "ipython3",
   "version": "3.9.18"
  }
 },
 "nbformat": 4,
 "nbformat_minor": 2
}
